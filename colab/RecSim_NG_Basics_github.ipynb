{
  "nbformat": 4,
  "nbformat_minor": 0,
  "metadata": {
    "colab": {
      "name": "RecSim_NG_Basics_github.ipynb",
      "provenance": [],
      "collapsed_sections": [],
      "include_colab_link": true
    },
    "kernelspec": {
      "display_name": "Python 3",
      "language": "python",
      "name": "python3"
    },
    "language_info": {
      "codemirror_mode": {
        "name": "ipython",
        "version": 3
      },
      "file_extension": ".py",
      "mimetype": "text/x-python",
      "name": "python",
      "nbconvert_exporter": "python",
      "pygments_lexer": "ipython3",
      "version": "3.8.7"
    }
  },
  "cells": [
    {
      "cell_type": "markdown",
      "metadata": {
        "id": "view-in-github",
        "colab_type": "text"
      },
      "source": [
        "<a href=\"https://colab.research.google.com/github/cwhsu-google/recsim/blob/master/colab/RecSim_NG_Basics_github.ipynb\" target=\"_parent\"><img src=\"https://colab.research.google.com/assets/colab-badge.svg\" alt=\"Open In Colab\"/></a>"
      ]
    },
    {
      "cell_type": "markdown",
      "metadata": {
        "id": "ZuVt5goQv4b9"
      },
      "source": [
        "Copyright 2021 The RecSim Authors.\n",
        "\n",
        "Licensed under the Apache License, Version 2.0 (the \"License\");\n",
        "you may not use this file except in compliance with the License.\n",
        "You may obtain a copy of the License at\n",
        "\n",
        "     http://www.apache.org/licenses/LICENSE-2.0\n",
        "\n",
        "Unless required by applicable law or agreed to in writing, software\n",
        "distributed under the License is distributed on an \"AS IS\" BASIS,\n",
        "WITHOUT WARRANTIES OR CONDITIONS OF ANY KIND, either express or implied.\n",
        "See the License for the specific language governing permissions and\n",
        "limitations under the License."
      ]
    },
    {
      "cell_type": "code",
      "metadata": {
        "id": "_2S9KmE8v4cG",
        "colab": {
          "base_uri": "https://localhost:8080/"
        },
        "outputId": "329001df-2c15-455a-e1ac-cdeeb746967c"
      },
      "source": [
        "# @title Install.\n",
        "!pip3 install --upgrade -q --no-cache-dir recsim_ng\n",
        "!pip3 install --upgrade -q --no-cache-dir edward2"
      ],
      "execution_count": null,
      "outputs": [
        {
          "output_type": "stream",
          "text": [
            "\u001b[?25l\r\u001b[K     |██▎                             | 10kB 22.2MB/s eta 0:00:01\r\u001b[K     |████▌                           | 20kB 11.9MB/s eta 0:00:01\r\u001b[K     |██████▊                         | 30kB 8.6MB/s eta 0:00:01\r\u001b[K     |█████████                       | 40kB 7.4MB/s eta 0:00:01\r\u001b[K     |███████████▏                    | 51kB 4.4MB/s eta 0:00:01\r\u001b[K     |█████████████▍                  | 61kB 4.9MB/s eta 0:00:01\r\u001b[K     |███████████████▋                | 71kB 5.3MB/s eta 0:00:01\r\u001b[K     |█████████████████▉              | 81kB 5.3MB/s eta 0:00:01\r\u001b[K     |████████████████████            | 92kB 5.1MB/s eta 0:00:01\r\u001b[K     |██████████████████████▎         | 102kB 5.3MB/s eta 0:00:01\r\u001b[K     |████████████████████████▌       | 112kB 5.3MB/s eta 0:00:01\r\u001b[K     |██████████████████████████▊     | 122kB 5.3MB/s eta 0:00:01\r\u001b[K     |█████████████████████████████   | 133kB 5.3MB/s eta 0:00:01\r\u001b[K     |███████████████████████████████▏| 143kB 5.3MB/s eta 0:00:01\r\u001b[K     |████████████████████████████████| 153kB 5.3MB/s \n",
            "\u001b[?25h"
          ],
          "name": "stdout"
        }
      ]
    },
    {
      "cell_type": "code",
      "metadata": {
        "id": "x4AioKCLKHId",
        "colab": {
          "base_uri": "https://localhost:8080/",
          "height": 367
        },
        "outputId": "c0573364-f7c3-4d29-d7de-f73c7f987119"
      },
      "source": [
        "# @title  Imports and defs.\n",
        "\n",
        "from typing import Any, Callable, Sequence\n",
        "\n",
        "from IPython.display import HTML\n",
        "import matplotlib as mpl\n",
        "from matplotlib import animation\n",
        "from matplotlib import pyplot as plt\n",
        "import numpy as np\n",
        "import tensorflow as tf\n",
        "import tensorflow_probability as tfp\n",
        "\n",
        "import edward2 as ed\n",
        "from recsim_ng.core import network as network_lib\n",
        "from recsim_ng.core import variable\n",
        "from recsim_ng.core import value\n",
        "from recsim_ng.lib.tensorflow import entity\n",
        "from recsim_ng.lib.tensorflow import field_spec\n",
        "from recsim_ng.lib.tensorflow import runtime\n",
        "from recsim_ng.core import value\n",
        "\n",
        "from ipykernel.pylab import backend_inline\n",
        "try:\n",
        "  get_ipython().events.callbacks[\"post_execute\"].remove(\n",
        "      backend_inline.flush_figures)\n",
        "except:\n",
        "\n",
        "  # discard the exception if the callback has already been removed.\n",
        "  pass\n",
        "\n",
        "tfd = tfp.distributions\n",
        "tfb = tfp.bijectors\n",
        "\n",
        "mpl.style.use(\"classic\")\n",
        "\n",
        "Variable = variable.Variable\n",
        "Value = value.Value\n",
        "FieldSpec = value.FieldSpec\n",
        "ValueSpec = value.ValueSpec\n",
        "Space = field_spec.Space\n",
        "\n",
        "\n",
        "def animate_game_of_life(cell_state_traj: tf.Tensor, horizon: int) -> Any:\n",
        "  \"\"\"Game of life animation in matplotlib.\"\"\"\n",
        "  fig, ax = plt.subplots(figsize=(5, 5))\n",
        "  im = ax.imshow(\n",
        "      255 * cell_state_traj[0],\n",
        "      animated=True,\n",
        "      cmap=\"gray_r\",\n",
        "      interpolation=\"none\")\n",
        "\n",
        "  def updatefig(*args):\n",
        "    im.set_array(255 * cell_state_traj[args[0]])\n",
        "    return im,\n",
        "\n",
        "  try:\n",
        "    ani = animation.FuncAnimation(fig, updatefig, frames=horizon, blit=True)\n",
        "    return HTML(ani.to_jshtml())\n",
        "  except:\n",
        "    return"
      ],
      "execution_count": null,
      "outputs": [
        {
          "output_type": "error",
          "ename": "ModuleNotFoundError",
          "evalue": "ignored",
          "traceback": [
            "\u001b[0;31m---------------------------------------------------------------------------\u001b[0m",
            "\u001b[0;31mModuleNotFoundError\u001b[0m                       Traceback (most recent call last)",
            "\u001b[0;32m<ipython-input-13-704a9f756893>\u001b[0m in \u001b[0;36m<module>\u001b[0;34m()\u001b[0m\n\u001b[1;32m     11\u001b[0m \u001b[0;32mimport\u001b[0m \u001b[0mtensorflow_probability\u001b[0m \u001b[0;32mas\u001b[0m \u001b[0mtfp\u001b[0m\u001b[0;34m\u001b[0m\u001b[0;34m\u001b[0m\u001b[0m\n\u001b[1;32m     12\u001b[0m \u001b[0;34m\u001b[0m\u001b[0m\n\u001b[0;32m---> 13\u001b[0;31m \u001b[0;32mimport\u001b[0m \u001b[0medward2\u001b[0m \u001b[0;32mas\u001b[0m \u001b[0med\u001b[0m\u001b[0;34m\u001b[0m\u001b[0;34m\u001b[0m\u001b[0m\n\u001b[0m\u001b[1;32m     14\u001b[0m \u001b[0;32mfrom\u001b[0m \u001b[0mrecsim_ng\u001b[0m\u001b[0;34m.\u001b[0m\u001b[0mcore\u001b[0m \u001b[0;32mimport\u001b[0m \u001b[0mnetwork\u001b[0m \u001b[0;32mas\u001b[0m \u001b[0mnetwork_lib\u001b[0m\u001b[0;34m\u001b[0m\u001b[0;34m\u001b[0m\u001b[0m\n\u001b[1;32m     15\u001b[0m \u001b[0;32mfrom\u001b[0m \u001b[0mrecsim_ng\u001b[0m\u001b[0;34m.\u001b[0m\u001b[0mcore\u001b[0m \u001b[0;32mimport\u001b[0m \u001b[0mvariable\u001b[0m\u001b[0;34m\u001b[0m\u001b[0;34m\u001b[0m\u001b[0m\n",
            "\u001b[0;31mModuleNotFoundError\u001b[0m: No module named 'edward2'",
            "",
            "\u001b[0;31m---------------------------------------------------------------------------\u001b[0;32m\nNOTE: If your import is failing due to a missing package, you can\nmanually install dependencies using either !pip or !apt.\n\nTo view examples of installing some common dependencies, click the\n\"Open Examples\" button below.\n\u001b[0;31m---------------------------------------------------------------------------\u001b[0m\n"
          ]
        }
      ]
    },
    {
      "cell_type": "markdown",
      "metadata": {
        "id": "j99AKepLVFgg"
      },
      "source": [
        "# Introduction\r\n",
        "At its core, RecSim NG is a software package for reasoning about recommender ecosystems consisting of agents (for example, users, content providers, advertisers, recommendation algorithms) interacting with each other in the context of a recommendation-driven service. There are two main components of RecSim NG:\r\n",
        "\r\n",
        "* a **composable modeling API** for specifying complex (possibly stochastic) agent behaviors (along with a library of reusable building blocks);\r\n",
        "* a **runtime library** which enables various reasoning tasks such as Monte Carlo simulation, marginal/posterior inference, model learning and others.\r\n",
        "\r\n",
        "In this tutorial we review the basics of these APIs and learn how to set up simple determinstic simulations. We also overview the various things that RecSim NG enables us to do with them.\r\n"
      ]
    },
    {
      "cell_type": "markdown",
      "metadata": {
        "id": "P6zW2Ol-hQ8q"
      },
      "source": [
        "## The RecSim NG Model\r\n",
        "\r\n",
        "Abstractly, a RecSim *model* (also called a RecSim \"simulation\") represents a *Markovian stochastic process*. That is, we assume there is some state space $\\cal S$  over which a Markov process gives rise to *trajectories*, that is, sequences of states in $\\cal S$ of length $n$, $(s_i \\in {\\cal S})_{i=1}^n$, such that $$p(\\left(s_i \\in {\\cal S}\\right)_{i=0}^{n-1}) = p_0(s_0)\\prod_{i}T(s_{i}, s_{i+1}),$$\r\n",
        "where $p_0$ is an initial state density, and $T$ is a transition kernel.\r\n",
        "\r\n",
        "We can think of $\\cal S$, for example, as the state of the recommender ecosystem, which might itself simply be the collection of states of all the individual actors in it.\r\n",
        "\r\n",
        "In most cases, $s \\in \\cal S$ is not just some vector in Euclidean space. Instead, $\\cal S$ is a highly structured object consisting of sub-components (e.g., the states of the individual actors) which may evolve autonomously, or through interactions with each other. \r\n",
        "In RecSim NG, we assume that the state space factors via ${\\cal S} = \\times_i S^i$, where the $S^i$'s are individual **components** of the state space. For example, each component might reflect the state of some actor, or some random variable in the recommender environment. Such a factorization of the state space allows us to specify the initial state and transition kernel in a factored way as well. To do so, we use the language of *Dynamic Bayesian Networks (DBNs)*.\r\n",
        "\r\n",
        "Suppose that $\\Gamma, \\Gamma_{-1}$ are two (possibly different) directed acyclic graphs (DAGs) whose nodes are the components of the state space. We then assume that \r\n",
        "$$T(s_t, s_{t-1}) = \\prod_i T^i(s_t^i | s^{\\operatorname{Pa}_{\\Gamma}(i)}_t, s_{t-1}^{{\\operatorname{Pa}_{\\Gamma_{-1}}(i)}}),$$\r\n",
        "that is, the state of the component $i$ depends on the state of its parents in $\\Gamma$ (its *intra-slice dependencies*), as well as the preceeding state of its parents in $\\Gamma_{-1}$ (its *inter-slice dependencies*). The components $T^i$ of the transition kernel are termed *conditional probability densities* (CPDs) or sometimes *factors*.\r\n",
        " We assume that the initial state density can be factored similarly, but the graphs may be different. \r\n",
        "\r\n",
        "The purpose of the RecSim NG modeling API is to allow the intuitive specification of components, their dependencies, and their stochastic behavior."
      ]
    },
    {
      "cell_type": "markdown",
      "metadata": {
        "id": "goOfkVtpkXd7"
      },
      "source": [
        "## Hello world: counting to $n$.\r\n",
        "We first introduce the RecSim modeling API by mapping these abstract concepts to code in a very simple model. Our first application is a process that counts from $0$ to $n-1$. In the language of DBNs, the state has a single component $S^0$, where ${\\cal S} = S^0 = {\\mathbb N}$. The dynamics of this process are specified as follows:\r\n",
        "* the initial state $s_0^0$ is always $0$;\r\n",
        "* the state updates as $s_t^0 = s_{t-1}^0 + 1$.\r\n",
        "\r\n",
        "In RecSim NG, a component is represented by an instance of a ```Variable```. A ```Variable``` is a component whose state space is a hierarchical dictionary (more on hierarchy later) with fixed keys, the values of which update deterministically or stochastically over time.\r\n",
        "A RecSim variable is declared as follows."
      ]
    },
    {
      "cell_type": "code",
      "metadata": {
        "id": "-qk70wQMkVqx"
      },
      "source": [
        "count_var = Variable(name=\"count\", spec=ValueSpec(n=FieldSpec()))"
      ],
      "execution_count": null,
      "outputs": []
    },
    {
      "cell_type": "markdown",
      "metadata": {
        "id": "vxn6hdkc3hmL"
      },
      "source": [
        "This line declares a variable whose name is \"count\" and whose state space consists of a dictionary having the single key \"n\". The declaration of the state space keys is accomplished by the ```ValueSpec``` object. Declaring a component with two keys might look like:\r\n",
        "\r\n",
        "```count_var = Variable(name=\"count\", spec=ValueSpec(key_1=FieldSpec(), key_2=FieldSpec()))``` \r\n",
        "\r\n",
        "meaning that the value of ```count_var``` is a dictionary of the form ```{\"key_1\": ..., \"key_2\":...}```. The class ```FieldSpec``` can be used to supply additional hints as to what the values of those keys could be. We will ignore this for the time being.\r\n",
        "\r\n",
        "We must now specify the generation of the initial state and transition kernel for ```count_var```."
      ]
    },
    {
      "cell_type": "code",
      "metadata": {
        "id": "pVvbLpqW3ggt"
      },
      "source": [
        "def count_init() -> Value:\n",
        "  return Value(n=0)\n",
        "\n",
        "count_var.initial_value = variable.value(count_init)"
      ],
      "execution_count": null,
      "outputs": []
    },
    {
      "cell_type": "markdown",
      "metadata": {
        "id": "nMcpLYBi6sKO"
      },
      "source": [
        "The initial value distribution of a RecSim NG variable is defined by assigning a generating function to the ```.initial_value``` property of the variable. In our example, the initial state generating function ```count_init``` always returns the dictionary ```{\"n\": 0}```. Note that methods which interact with variables must always return an instance of ```Value```. The ```Value``` class enables compositions of models as well as various input/output validations to take place. We dive into this later on. It is sometimes more convenient to work with a Python dictionary, so we might use the equivalent pattern \r\n",
        "```return Value(**{\"n\": 0})```. \r\n",
        "\r\n",
        "Now, let us specify the component dynamics of the \"count\" variable."
      ]
    },
    {
      "cell_type": "code",
      "metadata": {
        "id": "3IfZGP3v6p4A"
      },
      "source": [
        "def count_next(previous_value: Value) -> Value:\n",
        "  n_prev = previous_value.get(\"n\")\n",
        "  return Value(n=n_prev + 1)\n",
        "\n",
        "count_var.value = variable.value(count_next, (count_var.previous,))"
      ],
      "execution_count": null,
      "outputs": []
    },
    {
      "cell_type": "markdown",
      "metadata": {
        "id": "Uw8vH4-19B4_"
      },
      "source": [
        "This is very similar to the initial value specification, with the difference that we are now assigning the ```.value``` property. Note, moreover, that we have passed an additional argument to ```variable.value``` containing the singleton tuple ```count_var.previous```. This declares a $\\Gamma_{-1}$ dependency between \"count\" and itself, meaning that at time $t$ the simulator will pass the $t-1$ value of ```count_var``` as the ```previous_value``` argument of the update function ```count_next```.\r\n",
        "\r\n",
        "Line 2 in ```count_next``` also shows how we access fields of a ```Value``` object. This could also be done as \r\n",
        "```n_prev = previous_value.as_dict[\"n\"]```. We could also update the previous state using ```Value.map()```, which applies a function to all fields of a ```Value``` object. Here is an alternative definition:"
      ]
    },
    {
      "cell_type": "code",
      "metadata": {
        "id": "hEHHi7Qr8_T7"
      },
      "source": [
        "def count_next_map(previous_value: Value) -> Value:\r\n",
        "  return previous_value.map(lambda x: x + 1)"
      ],
      "execution_count": null,
      "outputs": []
    },
    {
      "cell_type": "markdown",
      "metadata": {
        "id": "ECNnXWDe-qB7"
      },
      "source": [
        "The two are identical."
      ]
    },
    {
      "cell_type": "code",
      "metadata": {
        "id": "Is7YUC1f-pIf"
      },
      "source": [
        "print(count_next(Value(n=1)))\r\n",
        "print(count_next_map(Value(n=1)))"
      ],
      "execution_count": null,
      "outputs": []
    },
    {
      "cell_type": "markdown",
      "metadata": {
        "id": "pu9wzsq3_FFn"
      },
      "source": [
        "We can now build a network from the individual components which we can then execute. "
      ]
    },
    {
      "cell_type": "code",
      "metadata": {
        "id": "1Io3Bg38-hX1"
      },
      "source": [
        "count_network = network_lib.Network([count_var])\r\n",
        "tf_runtime = runtime.TFRuntime(network=count_network)"
      ],
      "execution_count": null,
      "outputs": []
    },
    {
      "cell_type": "markdown",
      "metadata": {
        "id": "WjjcpT0g_VPs"
      },
      "source": [
        "A ```Network``` object represents a fully formed DBN. The default RecSim NG runtime allows us to \"execute\" this network in two ways. "
      ]
    },
    {
      "cell_type": "code",
      "metadata": {
        "id": "dE2fGUZV_S_4"
      },
      "source": [
        "result = tf_runtime.execute(4)\r\n",
        "print(result[\"count\"])"
      ],
      "execution_count": null,
      "outputs": []
    },
    {
      "cell_type": "markdown",
      "metadata": {
        "id": "wKxisusmAExo"
      },
      "source": [
        "```Runtime.execute(n)``` initializes the variables according to their ```initial_value``` definitions and returns a dictionary whose keys are the variable names and whose values are the state of these variables after $n$ state transitions. "
      ]
    },
    {
      "cell_type": "code",
      "metadata": {
        "id": "TzaL0JzaAD7X"
      },
      "source": [
        "result = tf_runtime.trajectory(5)\r\n",
        "print(result[\"count\"])"
      ],
      "execution_count": null,
      "outputs": []
    },
    {
      "cell_type": "markdown",
      "metadata": {
        "id": "-AHV2SoOAqU1"
      },
      "source": [
        "```Runtime.trajectory(n)``` generates a trajectory of length $n$. As with ```.execute```, it returns a dictionary of variable names; however, now the values contain the entire trajectory as an additional dimension."
      ]
    },
    {
      "cell_type": "markdown",
      "metadata": {
        "id": "ZvAZFWacBXlc"
      },
      "source": [
        "## Multiple variables: the Fibonacci numbers\r\n",
        "Let's expand the above example to incorporate multiple interacting variables. The Fibonacci sequence is commonly defined with the following recursion:\r\n",
        "$f_0 = 0, f_1 = 1, f_n = f_{n-1} + f_{n-2}.$ We can implement this in RecSim NG using two variables as follows:\r\n"
      ]
    },
    {
      "cell_type": "code",
      "metadata": {
        "id": "gr8vSgNb82FH"
      },
      "source": [
        "fib0 = Variable(name=\"fib0\", spec=ValueSpec(f0=FieldSpec()))\n",
        "fib1 = Variable(name=\"fib1\", spec=ValueSpec(f1=FieldSpec()))\n",
        "\n",
        "def f0_init() -> Value:\n",
        "  return Value(f0=0)\n",
        "\n",
        "def f0_next(f1_previous: Value) -> Value:\n",
        "  return Value(f0=f1_previous.get(\"f1\"))\n",
        "\n",
        "fib0.initial_value = variable.value(f0_init)\n",
        "fib0.value = variable.value(f0_next, (fib1.previous,))\n",
        "\n",
        "def f1_init() -> Value:\n",
        "  return Value(f1=1)\n",
        "\n",
        "def f1_next(f0_previous: Value, f1_previous: Value) -> Value:\n",
        "  return Value(f1=f0_previous.get(\"f0\") + f1_previous.get(\"f1\"))\n",
        "\n",
        "fib1.initial_value = variable.value(f1_init)\n",
        "fib1.value = variable.value(f1_next, (fib0.previous, fib1.previous))\n",
        "\n",
        "tf_runtime = runtime.TFRuntime(network=network_lib.Network([fib0, fib1]))\n",
        "trajectory = tf_runtime.trajectory(5)\n",
        "print(trajectory[\"fib0\"])\n",
        "print(trajectory[\"fib1\"])"
      ],
      "execution_count": null,
      "outputs": []
    },
    {
      "cell_type": "markdown",
      "metadata": {
        "id": "swOp184REHVB"
      },
      "source": [
        "In this example, the ```fib0``` variable acts as memory for the value of $f_{n-2}$. Specifically, it's update just needs to remember the previous value of ```fib1```. The ```fib1``` value updates to be the sum of the previous values of ```fib0``` and ```fib1```. Note that we could have just implemented this recursion with a single variable having two keys. The following code is functionally equivalent."
      ]
    },
    {
      "cell_type": "code",
      "metadata": {
        "id": "elU3VqTfPAEt"
      },
      "source": [
        "def fib_init():\n",
        "  return Value(f0=0, f1=1)\n",
        "\n",
        "\n",
        "def fib_next(previous_value):\n",
        "  return Value(\n",
        "      f0=previous_value.get(\"f1\"),\n",
        "      f1=previous_value.get(\"f0\") + previous_value.get(\"f1\"))\n",
        "\n",
        "fibonacci = Variable(name=\"fib\", spec=ValueSpec(f0=FieldSpec(), f1=FieldSpec()))\n",
        "fibonacci.initial_value = variable.value(fib_init)\n",
        "fibonacci.value = variable.value(fib_next, (fibonacci.previous,))\n",
        "\n",
        "tf_runtime = runtime.TFRuntime(\n",
        "    network=network_lib.Network(variables=[fibonacci]))\n",
        "print(tf_runtime.trajectory(5)[\"fib\"])"
      ],
      "execution_count": null,
      "outputs": []
    },
    {
      "cell_type": "markdown",
      "metadata": {
        "id": "Kw7jX9cUFepj"
      },
      "source": [
        "Is one of these preferred over the other? No. We can use either pattern depending on the application. Typically, this choice is determined by the semantics of the variables. For example, if we are modeling some complex behavior, such as a user reacting to a recommendation by generating a three reactions---say, a click, a rating, and a comment---then it might make sense to generate the these jointly as fields of a single variable (say, something like ```user_response```). This choice also largely determines what behaviors can be modularized in the application. We discuss this further in the next section."
      ]
    },
    {
      "cell_type": "markdown",
      "metadata": {
        "id": "1YCZEH4-JNdf"
      },
      "source": [
        "# Entities, Behaviors, and Stories: the RecSim Game of Life\r\n",
        "\r\n",
        "We have so far covered how to specify DBN components as RecSim variables and their dependencies, and how to run the resulting simulation in a RecSim runtime.\r\n",
        "RecSim variables are the \"assembly language\" of a RecSim model: they reflect the bare minimum information necessary to define a simulation. As such, the variable API leaves a lot of useful structure on the table. \r\n",
        "\r\n",
        "In an agent-based simulation, there are two common sources of structure that can be harnessed to make complex models easier to implement:\r\n",
        "\r\n",
        "\r\n",
        "1.   **Parameter sharing/encapsulation:** An agent may have multiple behaviors such as \"choose,\" \"observe,\" \"update state\", etc. All of these behaviors might be influenced by a common set of parameters, such as the agent's preferences, its risk sensitivity, its overall satisfaction, etc. This fits the object-oriented paradigm in which the various behaviors are expressed as methods and the shared parameters are encapsulated properties of the object. (In fact, agent-based modeling is often used to justify object-oriented programming.) \r\n",
        "\r\n",
        "2.   **Behavioral generalization:** While every agent in a population is unique to some degree, not everything they do is idiosyncratic. In fact, most behavioral models tend to be expressed in terms of a population \"template\" that abstracts away the individuality into some small set of parameters. For example, a multinomial logit model for *user choice* (i.e., a model which specifies the probabilty with which a user selects a specific item from a slate of recommended items) posits that an agent will choose an item with probability proportional to:\r\n",
        "\r\n",
        " $$\\exp(\\operatorname{affinity model}(\\mathrm{agent\\ features}, \\mathrm{item\\ features})).$$ \r\n",
        "In this example, the agent features are personlized each agent. However, the affinity model and the choice distribution family (i.e., softmax) are common to the entire population. Templatized models of this from offer two critical beneifits: (a) they allow us to define large populations of agents very concisely; and (b) they make heavy use of the accelerated computation present on modern hardware (through, for example, highly parallel hardware architectures).\r\n",
        "\r\n",
        "In RecSim, these two types of structure are harnessed through the ```Entity``` pattern. A RecSim ```Entity``` is a class that models the parameters and behaviors of an entire population of agents, making use of batched execution as much as possible. Let's illustrate this by implementing a RecSim version of Conway's *Game of Life*. The purpose of an ```Entity``` is to provide methods that update a RecSim variable(s). We call these **behaviors**.\r\n",
        "\r\n",
        "The Game of Life is defined as follows: \r\n",
        "* The game consists of some number of agents (cells), typically arranged in a rectangular grid. Each cell has one bit of state reflecting whether it's currently alive.\r\n",
        "* At any point in time $t$, a cell counts its living *neighbours* (i.e., the occupants of the 8 adjacent grid points). If the number of living neighbors is less than 2 or more than 3, then the cell dies (if it was alive) due to under/overpopulation (if it was dead, it remains dead). If the number of living neighbors is exactly 3, the cell is reborn if it was dead (and remains alive if it was living).\r\n",
        "\r\n",
        "The Game of Life embodies the principle of behavioral generalization in a very strict way: the rules are *identical* for every cell, and the outcome of the state transition is determined by a small set of parameters---the state of a cell and the states of its neighbors. In fact, we can use this to our advantage. By representing the state of the entire cell population as a binary rank-2 tensor, we can implement the neighbor-counting operation as a 2-dimensional convolution with the following kernel:\r\n",
        "\r\n",
        "$$\\begin{array} \r\n",
        ".1 & 1 & 1\\\\\r\n",
        "1 & 0 & 1\\\\\r\n",
        "1 & 1 & 1.\\\\\r\n",
        "\\end{array}$$\r\n",
        "\r\n",
        "In RecSim, our cell population ```Entity``` has two behaviors,initializing a cell's state and updating the state. For this example, we pass the initial state as a parameter at construction time. The implementation of a cell ```Entity``` using a 2D convolution is given below."
      ]
    },
    {
      "cell_type": "code",
      "metadata": {
        "id": "bn11pZDJPUN0"
      },
      "source": [
        "class Cell(entity.Entity):\n",
        "  \"\"\"Entity representing the dynamics of a population of cells.\"\"\"\n",
        "\n",
        "  def __init__(self, initial_configuration: tf.Tensor) -> None:\n",
        "    \"\"\"Stores the initial configuration and sets up the convolution layer.\"\"\"\n",
        "    super().__init__(name=\"Cell\")\n",
        "    self._initial_configuration = initial_configuration\n",
        "    grid_dim = tf.shape(initial_configuration)[0]\n",
        "\n",
        "    # Initialize the convolution layer.\n",
        "    def kernel_init(shape: int, dtype=None) -> tf.Tensor:\n",
        "      del shape, dtype\n",
        "      return tf.constant([[1.0, 1.0, 1.0], [1.0, 0.0, 1.0],\n",
        "                          [1.0, 1.0, 1.0]])[..., tf.newaxis, tf.newaxis]\n",
        "\n",
        "    self._conv = tf.keras.layers.Conv2D(\n",
        "        1, 3, use_bias=False, padding=\"same\",\n",
        "        input_shape=(grid_dim, grid_dim, 1),\n",
        "        kernel_initializer=kernel_init)\n",
        "\n",
        "  def initial_state(self) -> Value:\n",
        "    # Returns the stored initial configuration.\n",
        "    return Value(cell_state=self._initial_configuration)\n",
        "\n",
        "  def next_state(self, old_state: Value) -> Value:\n",
        "    # Updates the cell population state using the GoL rules.\n",
        "    old_cell_state = old_state.get(\"cell_state\")\n",
        "    # Expand and then squeeze to accommodate the input shape expectations of the\n",
        "    # convolutional layer.\n",
        "    neighbor_count = self._conv(old_cell_state[tf.newaxis, ..., tf.newaxis])\n",
        "    neighbor_count = tf.squeeze(neighbor_count)\n",
        "    # Underpopulated or overpopulated cells die off.\n",
        "    cell_state = tf.where(\n",
        "        tf.logical_or(neighbor_count > 3.0, neighbor_count < 2.0), 0.0,\n",
        "        old_cell_state)\n",
        "    # New cells are born.\n",
        "    cell_state = tf.where(\n",
        "        tf.cast(tf.round(neighbor_count), tf.int32) == 3, 1.0, cell_state)\n",
        "    return Value(cell_state=cell_state)"
      ],
      "execution_count": null,
      "outputs": []
    },
    {
      "cell_type": "markdown",
      "metadata": {
        "id": "qIWUy8zFvDwL"
      },
      "source": [
        "The ```Cell``` entity provides two **behaviors**: ```initial_state``` and ```next_state```, which update a simulation variable.\r\n",
        "\r\n",
        "In general there are no strict commitments as to what behaviors need to be implemented within an entity---this depends on the simulation. However, entities can be used to define interfaces (via abstract methods), which, together with **stories**, create modular templatized applications. We dive deeper into building applications in another tutorial.\r\n",
        "\r\n",
        "The main requirement when implementing behaviors is that the method must return a ```Value``` object, as well as expect a ```Value``` for all of its non-optional arguments. This enables a behavior to receive inputs from other variables and have its output bound to some variable.\r\n",
        "\r\n",
        "Finally, a ***RecSim story*** is just a function that encapsulates the creation of simulation variables, entities and the bindings between them. A story is expected to receive as inputs whatever parameters we choose to define our simulation, and output a list of well-formed simulation variables. In our example, we choose to pass in the cell entity constructor and the initial state as parameters.  "
      ]
    },
    {
      "cell_type": "markdown",
      "metadata": {
        "id": "H1_kDbXlAraC"
      },
      "source": [
        "Note also that we have passed a name string to the entity constructor with \r\n",
        "```super().__init__(name=\"Cell\")```. The purpose of this will become clear in the next section."
      ]
    },
    {
      "cell_type": "code",
      "metadata": {
        "id": "ZkKDdWYfRHle"
      },
      "source": [
        "def game_of_life_story(cell_ctor: Callable[[tf.Tensor], entity.Entity],\n",
        "                       initial_configuration: tf.Tensor) -> Sequence[Variable]:\n",
        "  # Create simulation variable.\n",
        "  cell_state = Variable(\n",
        "      \"cell_state_var\", spec=ValueSpec(cell_state=FieldSpec()))\n",
        "  # Create entity.\n",
        "  cell = cell_ctor(initial_configuration)\n",
        "  # Bind the simulation variable to the entity's behaviors.\n",
        "  cell_state.initial_value = variable.value(cell.initial_state, ())\n",
        "  cell_state.value = variable.value(cell.next_state, (cell_state.previous,))\n",
        "  # Return the variable.\n",
        "  return [cell_state]"
      ],
      "execution_count": null,
      "outputs": []
    },
    {
      "cell_type": "markdown",
      "metadata": {
        "id": "EtauY1DbLLKR"
      },
      "source": [
        "Note that passing entity constructors to a story is a very useful pattern when building simulations: it allows us to swap out agent types on the fly (e.g., when comparing different user models, recommenders, etc.). \r\n",
        "At this point we can run our Game of Life simulation and look at some fascinating patterns, such as the \"101\" pattern."
      ]
    },
    {
      "cell_type": "code",
      "metadata": {
        "id": "s-fvUKy1VYwO"
      },
      "source": [
        "pattern_101 = tf.constant(\n",
        "    [[0, 0, 0, 0, 1, 1, 0, 0, 0, 0, 0, 0, 1, 1, 0, 0, 0, 0],\n",
        "     [0, 0, 0, 1, 0, 1, 0, 0, 0, 0, 0, 0, 1, 0, 1, 0, 0, 0],\n",
        "     [0, 0, 0, 1, 0, 0, 0, 0, 0, 0, 0, 0, 0, 0, 1, 0, 0, 0],\n",
        "     [1, 1, 0, 1, 0, 0, 0, 0, 0, 0, 0, 0, 0, 0, 1, 0, 1, 1],\n",
        "     [1, 1, 0, 1, 0, 1, 0, 0, 1, 1, 0, 0, 1, 0, 1, 0, 1, 1],\n",
        "     [0, 0, 0, 1, 0, 1, 0, 1, 0, 0, 1, 0, 1, 0, 1, 0, 0, 0],\n",
        "     [0, 0, 0, 1, 0, 1, 0, 1, 0, 0, 1, 0, 1, 0, 1, 0, 0, 0],\n",
        "     [1, 1, 0, 1, 0, 1, 0, 0, 1, 1, 0, 0, 1, 0, 1, 0, 1, 1],\n",
        "     [1, 1, 0, 1, 0, 0, 0, 0, 0, 0, 0, 0, 0, 0, 1, 0, 1, 1],\n",
        "     [0, 0, 0, 1, 0, 0, 0, 0, 0, 0, 0, 0, 0, 0, 1, 0, 0, 0],\n",
        "     [0, 0, 0, 1, 0, 1, 0, 0, 0, 0, 0, 0, 1, 0, 1, 0, 0, 0],\n",
        "     [0, 0, 0, 0, 1, 1, 0, 0, 0, 0, 0, 0, 1, 1, 0, 0, 0, 0]],\n",
        "    dtype=tf.float32)\n",
        "variables = game_of_life_story(Cell, pattern_101)\n",
        "p101_runtime = runtime.TFRuntime(\n",
        "    network=network_lib.Network(variables))"
      ],
      "execution_count": null,
      "outputs": []
    },
    {
      "cell_type": "code",
      "metadata": {
        "id": "QAwvTzBgdjdx"
      },
      "source": [
        "trajectory = p101_runtime.trajectory(100)\n",
        "animate_game_of_life(trajectory[\"cell_state_var\"].get(\"cell_state\"), 10)"
      ],
      "execution_count": null,
      "outputs": []
    },
    {
      "cell_type": "markdown",
      "metadata": {
        "id": "-6mJ8xl4MR9e"
      },
      "source": [
        "We can also explore random initial configurations for larger populations.\r\n"
      ]
    },
    {
      "cell_type": "code",
      "metadata": {
        "id": "n8Vb35MFlicw"
      },
      "source": [
        "init_conf = ed.Bernoulli(0.1 * tf.ones((100, 100)), dtype=tf.float32)\n",
        "variables = game_of_life_story(Cell, init_conf)\n",
        "tf_runtime = runtime.TFRuntime(network=network_lib.Network(variables))\n",
        "trajectory = tf_runtime.trajectory(100)\n",
        "animate_game_of_life(trajectory[\"cell_state_var\"].get(\"cell_state\"), 20)"
      ],
      "execution_count": null,
      "outputs": []
    },
    {
      "cell_type": "markdown",
      "metadata": {
        "id": "U6X45diUM5JS"
      },
      "source": [
        "# Learning About Life: Differentiable Simulation\r\n",
        "\r\n",
        "We have so far looked at creating and running RecSim NG simulations, as well as adding structure using entities and stories. Now that we're able to run \r\n",
        "simulations, let's illustrate a few possible use cases. \r\n",
        "\r\n",
        "Being able to generate trajectories from a model alone is rarely the end of the story for a simulation project. Most of the time, we use simulation to do sampling-based estimation of various objectives that present themeselves as expectations over random variables and adapt model parameters based on these objectives, or perform other inference tasks. \r\n",
        "\r\n",
        "## Model learning\r\n",
        "\r\n",
        "In the following we illustrate a simple example of learning simulation models in RecSim. In particular, we will attempt to learn the dynamics of the Game of Life dynamics using a neural net by feeding it example trajectories from the \"ground truth\" Game of Life simulation. This is similar to the task of fitting a learned dynamics model to a data set of trajectories generated in some real-world environment (though in this case, the ``real world'' is in our control).\r\n",
        "\r\n",
        "We begin by implementing a new entity to represent the *trainable* cell population dynamics model. Like the ground truth Game of Life dynamics, to compute the next cell population state, the trainable entity applies a 2-dimensional convolution operator to the previous state; however, the results of the convolution, together with the previous state, the go through a couple of perceptron layers with ReLU activations. Our goal in this example will be to learn the weights of the perceptron layers together with the convolution kernel to imitate the rules of the Game of Life as well as possible.\r\n",
        "\r\n",
        "The implementation of the trainable cell entity is given below.\r\n",
        "\r\n"
      ]
    },
    {
      "cell_type": "code",
      "metadata": {
        "id": "jml2nEd0o_Xd"
      },
      "source": [
        "class NeuralCell(entity.Entity):\n",
        "  \"\"\"Cell population dynamics implemented with a neural network.\"\"\"\n",
        "\n",
        "  def __init__(self, initial_configuration: tf.Tensor) -> None:\n",
        "    \"\"\"Stores the initial configuration and sets up the convolution layer.\"\"\"\n",
        "    super().__init__(name=\"NeuralCell\")\n",
        "    self._initial_configuration = initial_configuration\n",
        "    grid_dim = tf.shape(initial_configuration)[0]\n",
        "    self._conv = tf.keras.layers.Conv2D(\n",
        "        1, 3, use_bias=False, padding=\"same\",\n",
        "        input_shape=(grid_dim, grid_dim, 1))\n",
        "    self._sequential = tf.keras.Sequential([\n",
        "        tf.keras.layers.Dense(15, activation=\"relu\"),\n",
        "        tf.keras.layers.Dense(15, activation=\"relu\"),\n",
        "        tf.keras.layers.Dense(15, activation=\"relu\"),\n",
        "        tf.keras.layers.Dense(1, activation=\"relu\")\n",
        "    ])\n",
        "    # Initialize all Keras weights.\n",
        "    self.next_state(self.initial_state())\n",
        "\n",
        "  def initial_state(self) -> Value:\n",
        "    # Returns the stored initial configuration.\n",
        "    return Value(cell_state=self._initial_configuration)\n",
        "\n",
        "  def next_state(self, old_state: Value) -> Value:\n",
        "    # GoL dynamics using a neural net.\n",
        "    old_cell_state = old_state.get(\"cell_state\")\n",
        "    neighbor_conv = self._conv(old_cell_state[tf.newaxis, ..., tf.newaxis])\n",
        "    neighbor_conv = tf.squeeze(neighbor_conv)\n",
        "    sequential_inputs = tf.stack((neighbor_conv, old_cell_state), axis=-1)\n",
        "    return Value(cell_state=tf.squeeze(self._sequential(sequential_inputs)))"
      ],
      "execution_count": null,
      "outputs": []
    },
    {
      "cell_type": "markdown",
      "metadata": {
        "id": "LkM_yFo7BiIC"
      },
      "source": [
        "Let's run the trainable cell and examine its outputs.\r\n"
      ]
    },
    {
      "cell_type": "code",
      "metadata": {
        "id": "1TdaaPRFB3sf"
      },
      "source": [
        "neural_cell = NeuralCell(\n",
        "    ed.Bernoulli(0.2 * tf.ones((10, 10), dtype=tf.float32), dtype=tf.float32))\n",
        "next_state = neural_cell.next_state(neural_cell.initial_state())\n",
        "print(next_state.get(\"cell_state\"))"
      ],
      "execution_count": null,
      "outputs": []
    },
    {
      "cell_type": "markdown",
      "metadata": {
        "id": "sixTvlaUDB45"
      },
      "source": [
        "As expected, the trainable cell population's state outputs look nothing like Game of Life states---they're not even integer! \r\n",
        "\r\n",
        "To be able to train the cell, we need access to it's trainable variables. Such access can be acquired in two different ways (among others). One (somewhat inconvenient way) is to create the weights of the various layers *a priori* and pass them as arguments to the cell at construction. This, however, could get very unwieldly in simulations that accept a wide range of hot-swappable entities.\r\n",
        "\r\n",
        "To circumvent this, RecSim can capture all trainables encountered within a story using the ```entity.story_with_trainable_variables``` call.\r\n"
      ]
    },
    {
      "cell_type": "code",
      "metadata": {
        "id": "qa3OeYrkDA-E"
      },
      "source": [
        "recsim_vars, trainable_vars = entity.story_with_trainable_variables(\r\n",
        "    lambda: game_of_life_story(NeuralCell, init_conf))"
      ],
      "execution_count": null,
      "outputs": []
    },
    {
      "cell_type": "markdown",
      "metadata": {
        "id": "kgnGGktwE9zi"
      },
      "source": [
        "The outputs are as follows:\r\n",
        " * ```recsim_vars``` is a list of simulation variables (identical to simply running ```game_of_life_story(NeuralCell, init_conf)```.\r\n",
        " * ```trainable_vars``` is a dictionary whose keys are the entity names (as specified in ```super().__init__(name=...)``` during the entity construction) and values are the results of ```entity_object.trainable_variables```. The RecSim entity class inherits from ```tf.Module``` so these are found using reflection.\r\n"
      ]
    },
    {
      "cell_type": "code",
      "metadata": {
        "id": "AOuPe6fHE-H1"
      },
      "source": [
        "tf.print(trainable_vars)"
      ],
      "execution_count": null,
      "outputs": []
    },
    {
      "cell_type": "markdown",
      "metadata": {
        "id": "cf8CYHcrPCm5"
      },
      "source": [
        "We can now implement a basic stochastic training loop as follows. We use two RecSim runtimes: one with the ground truth Game of Life simulation and another with the trainable one. At each iteration, we draw a random initial state (cell configuration), generate a trajectory from both runtimes, and then attempt to reduce the squared difference between the two as a function of the trainable parameters. \r\n",
        "\r\n",
        "This also demonstrates another runtime feature. We often need to run multiple simulation trajectories using the same initial state, so RecSim allows one to provide an initial state using the ```starting_value``` argument. Its datatype is ```NetworkValue```, i.e., a dictionary of the form ```{\"variable name\": Value}```."
      ]
    },
    {
      "cell_type": "code",
      "metadata": {
        "id": "AQK_pdvFR84b"
      },
      "source": [
        "recsim_vars, trainable_vars = entity.story_with_trainable_variables(\n",
        "    lambda: game_of_life_story(NeuralCell, init_conf))\n",
        "trainable_tf_runtime = runtime.TFRuntime(\n",
        "    network=network_lib.Network(recsim_vars))\n",
        "loss = lambda label, pred: tf.reduce_sum(\n",
        "    tf.math.squared_difference(label, pred))\n",
        "optimizer = tf.keras.optimizers.Adam(learning_rate=0.01)\n",
        "\n",
        "\n",
        "@tf.function\n",
        "def training_step():\n",
        "  with tf.GradientTape() as tape:\n",
        "    random_initial_state = ed.Bernoulli(\n",
        "        0.1 * tf.ones((100, 100)), dtype=tf.float32)\n",
        "    initial_network_value = {\n",
        "        \"cell_state_var\": Value(cell_state=random_initial_state)\n",
        "    }\n",
        "    gt_trajectory = tf_runtime.trajectory(\n",
        "        length=5, starting_value=initial_network_value)\n",
        "    predicted_trajectory = trainable_tf_runtime.trajectory(\n",
        "        length=5, starting_value=initial_network_value)\n",
        "    objective = loss(gt_trajectory[\"cell_state_var\"].get(\"cell_state\"),\n",
        "                     predicted_trajectory[\"cell_state_var\"].get(\"cell_state\"))\n",
        "  grads = tape.gradient(objective, trainable_vars[\"NeuralCell\"])\n",
        "  optimizer.apply_gradients(zip(grads, trainable_vars[\"NeuralCell\"]))\n",
        "  return objective\n",
        "\n",
        "\n",
        "for i in range(1001):\n",
        "  obj = training_step()\n",
        "  if not i % 100:\n",
        "    print(f\"Iteration {i}, loss {obj.numpy()}\")"
      ],
      "execution_count": null,
      "outputs": []
    },
    {
      "cell_type": "markdown",
      "metadata": {
        "id": "fbCQkXU8Pw_P"
      },
      "source": [
        "(In case this loop doesn't coverge to a loss on the order of $10^{-2}$, it might have to be rerun a few times.)\r\n",
        "\r\n",
        "We can now visualize the results."
      ]
    },
    {
      "cell_type": "code",
      "metadata": {
        "id": "T8UkteWHz0LV"
      },
      "source": [
        "predicted_trajectory = trainable_tf_runtime.trajectory(length=50)\n",
        "animate_game_of_life(predicted_trajectory[\"cell_state_var\"].get(\"cell_state\"),\n",
        "                     20)"
      ],
      "execution_count": null,
      "outputs": []
    },
    {
      "cell_type": "markdown",
      "metadata": {
        "id": "9HLWohOSQ-if"
      },
      "source": [
        "It looks like the network has learned to reproduce the Game of Life dynamics rather convincingly. It's not perfect---indeed, some anomalous artifacts can be seen in latter iterations, as we do not enforce integrality of the cell state in any way. We could easily fix this by rounding.\r\n",
        "\r\n",
        "## Inference\r\n",
        "\r\n",
        "Having a differentiable Game of Life model offers some interesting benefits. By construction, the model outputs are differentiable with respect to the model parameters. Perhaps more interestingly, the model outputs are differentiable with respect to the *initial state* as well. This opens the door to some interesting use cases. For example, suppose we are given a Game of Life trajectory $(s_1, \\ldots, s_k)$ that is missing its initial state $s_0$. We can try to reconstruct the initial state as:\r\n",
        "$$s^*_0 = \\arg\\min_{\\hat{s}_0} \\operatorname{loss}((s_1, \\ldots, s_k), (\\hat{s}_1, \\ldots, \\hat{s}_k)),$$\r\n",
        "where $(\\hat{s}_1, \\ldots, \\hat{s}_k)$ is the sequence of states generated by starting the Game of Life at $\\hat{s}_0$. Since our learned model is differentiable with respect to the previous state, we can attempt to solve this problem by gradient descent on the loss function. (For simplicity, we make no attempt to ensure integrality of the state).\r\n",
        "\r\n",
        "Let's try this out on the 101 pattern. Since we want to reuse our runtimes, which are built to work with (100, 100) grids, we pad the pattern with zeroes. "
      ]
    },
    {
      "cell_type": "code",
      "metadata": {
        "id": "-hBw42St4RVZ"
      },
      "source": [
        "p101_expanded = tf.concat((pattern_101, tf.zeros((12, 82))), axis=1)\r\n",
        "p101_expanded = tf.concat((p101_expanded, tf.zeros((88, 100))), axis=0)\r\n",
        "animate_game_of_life(p101_expanded[tf.newaxis, ...], 1)"
      ],
      "execution_count": null,
      "outputs": []
    },
    {
      "cell_type": "markdown",
      "metadata": {
        "id": "Iuov2iukppnD"
      },
      "source": [
        "Now let's set up the learning loop. We generate a \"target\" trajectory by starting\n",
        "the ground truth runtime with the above configuration. We generate two time\n",
        "steps. We then create a trainable variable to represent the unknown initial\n",
        "state and generate two state transitions using our differentiable cell model starting\n",
        "from that unknown initial state. We then differentiate the difference between the target and trainable\n",
        "trajectories as a function of the trainable initial state."
      ]
    },
    {
      "cell_type": "code",
      "metadata": {
        "id": "zn2Mqk0m9NS3"
      },
      "source": [
        "loss = lambda label, pred: tf.reduce_sum(\n",
        "    tf.math.squared_difference(label, pred))\n",
        "optimizer = tf.keras.optimizers.Adam(learning_rate=0.05)\n",
        "# Initialize the differentiable initial state variable.\n",
        "initial_loc = np.zeros((100, 100), dtype=np.float32)\n",
        "initial_loc[:12, :18] = 0.5\n",
        "initial_scale = np.zeros((100, 100), dtype=np.float32)\n",
        "initial_scale[:12, :18] = 0.5\n",
        "trainable_initial_state = tf.Variable(\n",
        "    ed.Normal(loc=initial_loc, scale=initial_scale),\n",
        "    constraint=lambda x: tf.clip_by_value(x, 0.0, 1.0))\n",
        "# Generate the target trajectory.\n",
        "gt_network_value = {\"cell_state_var\": Value(cell_state=p101_expanded)}\n",
        "target_trajectory = tf_runtime.trajectory(\n",
        "    length=3, starting_value=gt_network_value)\n",
        "\n",
        "\n",
        "@tf.function\n",
        "def training_step_end_state():\n",
        "  with tf.GradientTape() as tape:\n",
        "    trainable_network_value = {\n",
        "        \"cell_state_var\": Value(cell_state=trainable_initial_state)\n",
        "    }\n",
        "    predicted_trajectory = trainable_tf_runtime.trajectory(\n",
        "        length=3, starting_value=trainable_network_value)\n",
        "    # Filter out the first step to avoid revealing the ground truth and\n",
        "    # constrain the loss to the top 12 x 18 rectangle.\n",
        "    objective = loss(\n",
        "        target_trajectory[\"cell_state_var\"].get(\"cell_state\")[1:, :12, :18],\n",
        "        predicted_trajectory[\"cell_state_var\"].get(\"cell_state\")[1:, :12, :18])\n",
        "  grads = tape.gradient(objective, [trainable_initial_state])\n",
        "  optimizer.apply_gradients(zip(grads, [trainable_initial_state]))\n",
        "  return objective\n",
        "\n",
        "\n",
        "for i in range(4000):\n",
        "  obj = training_step_end_state()\n",
        "  if not i % 500:\n",
        "    print(f\"Iteration {i}, loss {obj.numpy()}\")"
      ],
      "execution_count": null,
      "outputs": []
    },
    {
      "cell_type": "markdown",
      "metadata": {
        "id": "N4Ki2SFgqkPg"
      },
      "source": [
        "We can now visualize the result."
      ]
    },
    {
      "cell_type": "code",
      "metadata": {
        "id": "0C1JMMMyEiIl"
      },
      "source": [
        "trainable_network_value = {\n",
        "    \"cell_state_var\": Value(cell_state=trainable_initial_state)\n",
        "}\n",
        "predicted_trajectory = trainable_tf_runtime.trajectory(\n",
        "    length=10, starting_value=trainable_network_value)\n",
        "animate_game_of_life(predicted_trajectory[\"cell_state_var\"].get(\"cell_state\"),\n",
        "                     10)"
      ],
      "execution_count": null,
      "outputs": []
    },
    {
      "cell_type": "markdown",
      "metadata": {
        "id": "KFEUESPrqqPx"
      },
      "source": [
        "While the words \"smashing success\" are hardly the first thing that comes to mind while looking at the reconstructed state, we do notice that the optimization procedure managed to encode quite a bit of trajectory information in the initial state.\r\n",
        "\r\n",
        "Optimization with respect to state configurations is an important concept which will be used as a building block for more sophisticated inference procedures.\r\n",
        "\r\n",
        "We will follow-up on these ideas when implementing learning algorithms for stochastic models in [another tutorial](RecSim_NG_Dealing_With_Uncertainty.ipynb)."
      ]
    }
  ]
}